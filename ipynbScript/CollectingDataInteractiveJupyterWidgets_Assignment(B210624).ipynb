{
 "cells": [
  {
   "cell_type": "markdown",
   "id": "pleased-absolute",
   "metadata": {},
   "source": [
    "## CollectingDataInteractiveJupyterWidgets_Assignment(B210624)\n",
    "**Author details:** *Author:* B210623. *Contact details:*snnnnnn@ed.ac.uk. \n",
    "**My assessment repository**:\n",
    "https://github.com/B210624/B210624_Working_with_data_types_and_structures_in_Python_and_R.git\n",
    "\n",
    "Notebook  and data information: Assignment shows data manipulation with interactive jupyter widgets with the NHS Hospital length of stay (LOS) data (LOS_model) and save it to my working ‘Data’ folder, and finally saving all the captured test data to my ‘RawData’. It consists of string data, numerical data and character data. The data I selected is csv format from the NHSRdatasets package for skills development. This is a artificially generated hospital data with fictional patients at ten fictional hospitals, LOS, Age and Death numbers."
   ]
  },
  {
   "cell_type": "code",
   "execution_count": null,
   "id": "frozen-attendance",
   "metadata": {
    "tags": [
     "remove_cell"
    ]
   },
   "outputs": [],
   "source": [
    "#Load the 'pandas' package, which is an useful for data manipulation.  \n",
    "import pandas as pd\n",
    "testData=pd.read_csv(\"../Data/los.csv\")\n",
    "testData #This section is the process of Creation and Storage."
   ]
  },
  {
   "cell_type": "code",
   "execution_count": null,
   "id": "friendly-pennsylvania",
   "metadata": {
    "tags": [
     "hide-input"
    ]
   },
   "outputs": [],
   "source": [
    "#Data type: I check the data type in the testData data frame. The dtypes function is imported from the pandas package to know the data types in the testData. The dtypes function returns the data types in the data frame.\n",
    "result = testData.dtypes\n",
    "print(\"Output:\")\n",
    "print(result)# This section is the start of the process of Synthesis."
   ]
  },
  {
   "cell_type": "code",
   "execution_count": null,
   "id": "residential-index",
   "metadata": {
    "tags": [
     "hide-input"
    ]
   },
   "outputs": [],
   "source": [
    "#Set up an empty data frame in the working data folder to gather the data captured by the Juypter widgets.\n",
    "#ID:Integer, Organisation: String, Age: Integer, LOS: integer, Consent: Boolean\n",
    "dfTofill = pd.DataFrame({'ID': [0],'Organisation': ['NA'],'Age': [0], 'LOS': [0], \"Consent\":[False]})\n",
    "dfTofill"
   ]
  },
  {
   "cell_type": "code",
   "execution_count": null,
   "id": "dated-compiler",
   "metadata": {},
   "outputs": [],
   "source": [
    "dfTofill.to_csv('../Data/LOS_Data_frame_CollectedData.csv',index=False)#Saved the empty data frame to my Data folder"
   ]
  },
  {
   "cell_type": "code",
   "execution_count": null,
   "id": "quantitative-wholesale",
   "metadata": {},
   "outputs": [],
   "source": [
    "CollectData=pd.read_csv(\"../Data/LOS_Data_frame_CollectedData.csv\")\n",
    "CollectData #The empty data frame is now saved to the working ‘Data’ folder. I can read in the empty data frame. "
   ]
  },
  {
   "cell_type": "markdown",
   "id": "sealed-chemistry",
   "metadata": {},
   "source": [
    "####  Indexing in Python: Indexing in Python is important to choose the individual data by positioning. "
   ]
  },
  {
   "cell_type": "code",
   "execution_count": null,
   "id": "entire-soundtrack",
   "metadata": {},
   "outputs": [],
   "source": [
    "index_number=301 #Remember to change for each record.\n",
    "dfTofill.iloc[0,0]=index_number\n",
    "dfTofill"
   ]
  },
  {
   "cell_type": "code",
   "execution_count": null,
   "id": "accredited-contrary",
   "metadata": {},
   "outputs": [],
   "source": [
    "#Widgets: I use to create graphical user-frentdly interface like a button, dropdown or textbox. \n",
    "import ipywidgets as widgets #Load the 'ipywidgets' package\n",
    "from IPython.display import display #The IPython.display package is loaded to display different objects in Jupyter. "
   ]
  },
  {
   "cell_type": "markdown",
   "id": "covered-effects",
   "metadata": {},
   "source": [
    "#### Consent: Consent is a critcal element for data protection compliance. Consent expain the freedom to perticiapate the clinical research for smooth process to get their data. The [General Data Protection Regulation]. Before the reseachers obtain any data, they need to get consent from the patient to process and share the data the researchers will collect with the data capture tool."
   ]
  },
  {
   "cell_type": "code",
   "execution_count": null,
   "id": "compact-worship",
   "metadata": {
    "tags": [
     "hide-input"
    ]
   },
   "outputs": [],
   "source": [
    "# Boolean widgets: Boolean widgets are designed to display a boolean value. This is Checkbox widget\n",
    "a = widgets.Checkbox(\n",
    "    value=False,\n",
    "    description='I consent for the data I have provided to be processed and shared in accordance with data protection regulations with the purpose of improving care service provision across the UK.',\n",
    "    disabled=False\n",
    ")\n",
    "display(a)#Please check the box to claim that I have consent. "
   ]
  },
  {
   "cell_type": "code",
   "execution_count": null,
   "id": "higher-framework",
   "metadata": {},
   "outputs": [],
   "source": [
    "dfTofill.iloc[0,4]=a.value # I added the value in the empty data frame.\n",
    "dfTofill"
   ]
  },
  {
   "cell_type": "code",
   "execution_count": null,
   "id": "passive-killer",
   "metadata": {},
   "outputs": [],
   "source": [
    "print(result[1]) #String data type\n",
    "testData.head(n=1)"
   ]
  },
  {
   "cell_type": "markdown",
   "id": "static-fitness",
   "metadata": {},
   "source": [
    "#### The organisation variable: the organisation variable includes the fictional organisation code. Synthesis start from here.     "
   ]
  },
  {
   "cell_type": "code",
   "execution_count": null,
   "id": "aware-genetics",
   "metadata": {},
   "outputs": [],
   "source": [
    "print(result[2]) #String data type"
   ]
  },
  {
   "cell_type": "code",
   "execution_count": null,
   "id": "unexpected-devices",
   "metadata": {
    "tags": [
     "hide-input"
    ]
   },
   "outputs": [],
   "source": [
    "import numpy as np #Load the 'numpy' package\n",
    "testData.describe(include='all') #I use the `describe()` function from the *numpy* Python package to calculate summary statistics for the testData data frame. The numpy package is useful for statistical analysis."
   ]
  },
  {
   "cell_type": "code",
   "execution_count": null,
   "id": "lightweight-sweden",
   "metadata": {},
   "outputs": [],
   "source": [
    "org=list(testData['Organisation'].unique()) # I used the pandas package `unique()` function to get the unique\n",
    "org                                         # Organisation codes in the test data."
   ]
  },
  {
   "cell_type": "code",
   "execution_count": null,
   "id": "imperial-loading",
   "metadata": {},
   "outputs": [],
   "source": [
    "testData.head(n=1)# Look at the head of data"
   ]
  },
  {
   "cell_type": "markdown",
   "id": "amateur-princess",
   "metadata": {},
   "source": [
    "#### Selection widgets:Several widgets can be used to display single selection lists. I specify the selectable options by passing a list.  "
   ]
  },
  {
   "cell_type": "code",
   "execution_count": null,
   "id": "vocational-thursday",
   "metadata": {},
   "outputs": [],
   "source": [
    "c=widgets.Select(# I made the values to specific vatiables in the empty frame or existing frames.\n",
    "    options=org,\n",
    "    rows=len(org),\n",
    "    description='Organisation:',\n",
    "    disabled=False)\n",
    "display(c)"
   ]
  },
  {
   "cell_type": "code",
   "execution_count": null,
   "id": "informed-hospital",
   "metadata": {},
   "outputs": [],
   "source": [
    "dfTofill.iloc[0,1]=c.value # I added the value in the empty data frame.\n",
    "dfTofill"
   ]
  },
  {
   "cell_type": "code",
   "execution_count": null,
   "id": "south-worse",
   "metadata": {},
   "outputs": [],
   "source": [
    "print(result[1]) # The type variable is String data type"
   ]
  },
  {
   "cell_type": "code",
   "execution_count": null,
   "id": "fantastic-despite",
   "metadata": {},
   "outputs": [],
   "source": [
    "type=list(testData['Organisation'].unique())\n",
    "type #I first use the *pandas* package `unique()` function to get the unique department type in the test data.\n",
    "testData.head(n=10)"
   ]
  },
  {
   "cell_type": "markdown",
   "id": "auburn-correspondence",
   "metadata": {},
   "source": [
    "#### The numeric variable includes the number of the length of stay in hospital and and death numbers."
   ]
  },
  {
   "cell_type": "code",
   "execution_count": null,
   "id": "conditional-channels",
   "metadata": {},
   "outputs": [],
   "source": [
    "print(result[2])\n",
    "testData.head(n=1)"
   ]
  },
  {
   "cell_type": "markdown",
   "id": "civil-excess",
   "metadata": {},
   "source": [
    "#### Numeric widgets: Widgets exist for displaying integers and floats, both bounded and unbounded. The integer widgets share a similar naming scheme to their floating point counterparts. By replacing Float with Int in the widget name, you can find the Integer equivalent."
   ]
  },
  {
   "cell_type": "code",
   "execution_count": null,
   "id": "coupled-optimum",
   "metadata": {},
   "outputs": [],
   "source": [
    "e=widgets.IntText(# I made the values to input specific vatiables in the empty frame or existing frames.\n",
    "    value=0,\n",
    "    description='Age:',\n",
    "    disabled=False)\n",
    "display(e) "
   ]
  },
  {
   "cell_type": "code",
   "execution_count": null,
   "id": "competitive-following",
   "metadata": {},
   "outputs": [],
   "source": [
    "dfTofill.iloc[0,2]=e.value # I added the value in the empty data frame.\n",
    "dfTofill"
   ]
  },
  {
   "cell_type": "markdown",
   "id": "radio-cross",
   "metadata": {},
   "source": [
    "#### The numeric variable of length of stay in hosptal"
   ]
  },
  {
   "cell_type": "code",
   "execution_count": null,
   "id": "original-obligation",
   "metadata": {},
   "outputs": [],
   "source": [
    "print(result[3])\n",
    "testData.head(1)"
   ]
  },
  {
   "cell_type": "code",
   "execution_count": null,
   "id": "irish-renewal",
   "metadata": {},
   "outputs": [],
   "source": [
    "f=widgets.IntText(# I made the values to enter specific vatiables in the empty frame or existing frames.\n",
    "    value=0,\n",
    "    description='LOS:',\n",
    "    disabled=False)\n",
    "display(f)"
   ]
  },
  {
   "cell_type": "code",
   "execution_count": null,
   "id": "filled-ballet",
   "metadata": {},
   "outputs": [],
   "source": [
    "dfTofill.iloc[0,3]=f.value # I added the value in the empty data frame.\n",
    "dfTofill"
   ]
  },
  {
   "cell_type": "markdown",
   "id": "concerned-algeria",
   "metadata": {},
   "source": [
    "#### Concatenating the collected data to the CollectData data frame.   "
   ]
  },
  {
   "cell_type": "code",
   "execution_count": null,
   "id": "reserved-tomato",
   "metadata": {
    "scrolled": true
   },
   "outputs": [],
   "source": [
    "# I use the `concat()` function from the pandas package to append CollectData, dfTofill data frames and testData.\n",
    "CollectData  = pd.concat([CollectData,testData,dfTofill,])# CollectData is the first data frame \n",
    "display(CollectData) # The testData is the second frame and dfTofill is the last data frame  "
   ]
  },
  {
   "cell_type": "code",
   "execution_count": null,
   "id": "seventh-material",
   "metadata": {},
   "outputs": [],
   "source": [
    "# I input the extra data of the consent for the test data using iloc () function for data manipuation\n",
    "CollectData.iloc[1:,4]=a.value\n",
    "display(CollectData)"
   ]
  },
  {
   "cell_type": "code",
   "execution_count": null,
   "id": "worthy-vegetarian",
   "metadata": {},
   "outputs": [],
   "source": [
    "#I consent to process and share the data before I save it to the working data folder.The following line of code, will ensure that you have consent to save data.\n",
    "CollectData=CollectData[CollectData['Consent'] == True]\n",
    "display(CollectData)"
   ]
  },
  {
   "cell_type": "code",
   "execution_count": null,
   "id": "integral-basketball",
   "metadata": {},
   "outputs": [],
   "source": [
    "# This end of syhtheis. Saving the data collected by your data-capture tool to the working data folder:\n",
    "CollectData.to_csv('../Data/LOS_python_CollectedData.csv', index=False)\n",
    "# I saved my collected data frame saved to the working ‘Data’ folder to repeat data amanipulation via the Notebook until the end of data collection and interactions and then save the captured test data to my ‘RawData’ folder.\n",
    "CollectData.to_csv('../RawData/LOS_python_CollectedDataFinal.csv', index=False)#Thank you very much for reading my assingment and marking."
   ]
  }
 ],
 "metadata": {
  "kernelspec": {
   "display_name": "Python 3 (ipykernel)",
   "language": "python",
   "name": "python3"
  },
  "language_info": {
   "codemirror_mode": {
    "name": "ipython",
    "version": 3
   },
   "file_extension": ".py",
   "mimetype": "text/x-python",
   "name": "python",
   "nbconvert_exporter": "python",
   "pygments_lexer": "ipython3",
   "version": "3.9.2"
  }
 },
 "nbformat": 4,
 "nbformat_minor": 5
}
