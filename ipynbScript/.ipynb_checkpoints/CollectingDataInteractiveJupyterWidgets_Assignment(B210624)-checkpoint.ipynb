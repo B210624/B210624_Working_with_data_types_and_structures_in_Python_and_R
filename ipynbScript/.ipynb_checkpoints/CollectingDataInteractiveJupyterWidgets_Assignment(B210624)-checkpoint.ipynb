{
 "cells": [
  {
   "cell_type": "markdown",
   "id": "pleased-absolute",
   "metadata": {},
   "source": [
    "## CollectingDataInteractiveJupyterWidgets_Assignment(B210624)\n",
    "**Author details:** *Author:* B210623. *Contact details:*snnnnnn@ed.ac.uk. \n",
    "**My assessment repository**:\n",
    "https://github.com/B210624/B210624_Working_with_data_types_and_structures_in_Python_and_R.git\n",
    "\n",
    "Notebook  and data information: Assignment shows data manipulation with interactive jupyter widgets with the NHS Hospital length of stay (LOS) data (LOS_model) and save it to my working ‘Data’ folder, and finally saving all the captured test data to my ‘RawData’. It consists of string data, numerical data and character data. The data I selected is csv format from the NHSRdatasets package for skills development. This is a artificially generated hospital data with fictional patients at ten fictional hospitals, LOS, Age and Death numbers."
   ]
  },
  {
   "cell_type": "code",
   "execution_count": 2,
   "id": "frozen-attendance",
   "metadata": {
    "tags": [
     "remove_cell"
    ]
   },
   "outputs": [
    {
     "data": {
      "text/html": [
       "<div>\n",
       "<style scoped>\n",
       "    .dataframe tbody tr th:only-of-type {\n",
       "        vertical-align: middle;\n",
       "    }\n",
       "\n",
       "    .dataframe tbody tr th {\n",
       "        vertical-align: top;\n",
       "    }\n",
       "\n",
       "    .dataframe thead th {\n",
       "        text-align: right;\n",
       "    }\n",
       "</style>\n",
       "<table border=\"1\" class=\"dataframe\">\n",
       "  <thead>\n",
       "    <tr style=\"text-align: right;\">\n",
       "      <th></th>\n",
       "      <th>ID</th>\n",
       "      <th>Organisation</th>\n",
       "      <th>Age</th>\n",
       "      <th>LOS</th>\n",
       "      <th>Death</th>\n",
       "    </tr>\n",
       "  </thead>\n",
       "  <tbody>\n",
       "    <tr>\n",
       "      <th>0</th>\n",
       "      <td>1</td>\n",
       "      <td>Trust1</td>\n",
       "      <td>55</td>\n",
       "      <td>2</td>\n",
       "      <td>0</td>\n",
       "    </tr>\n",
       "    <tr>\n",
       "      <th>1</th>\n",
       "      <td>2</td>\n",
       "      <td>Trust2</td>\n",
       "      <td>27</td>\n",
       "      <td>1</td>\n",
       "      <td>0</td>\n",
       "    </tr>\n",
       "    <tr>\n",
       "      <th>2</th>\n",
       "      <td>3</td>\n",
       "      <td>Trust3</td>\n",
       "      <td>93</td>\n",
       "      <td>12</td>\n",
       "      <td>0</td>\n",
       "    </tr>\n",
       "    <tr>\n",
       "      <th>3</th>\n",
       "      <td>4</td>\n",
       "      <td>Trust4</td>\n",
       "      <td>45</td>\n",
       "      <td>3</td>\n",
       "      <td>1</td>\n",
       "    </tr>\n",
       "    <tr>\n",
       "      <th>4</th>\n",
       "      <td>5</td>\n",
       "      <td>Trust5</td>\n",
       "      <td>70</td>\n",
       "      <td>11</td>\n",
       "      <td>0</td>\n",
       "    </tr>\n",
       "    <tr>\n",
       "      <th>...</th>\n",
       "      <td>...</td>\n",
       "      <td>...</td>\n",
       "      <td>...</td>\n",
       "      <td>...</td>\n",
       "      <td>...</td>\n",
       "    </tr>\n",
       "    <tr>\n",
       "      <th>295</th>\n",
       "      <td>296</td>\n",
       "      <td>Trust6</td>\n",
       "      <td>32</td>\n",
       "      <td>6</td>\n",
       "      <td>0</td>\n",
       "    </tr>\n",
       "    <tr>\n",
       "      <th>296</th>\n",
       "      <td>297</td>\n",
       "      <td>Trust7</td>\n",
       "      <td>55</td>\n",
       "      <td>6</td>\n",
       "      <td>1</td>\n",
       "    </tr>\n",
       "    <tr>\n",
       "      <th>297</th>\n",
       "      <td>298</td>\n",
       "      <td>Trust8</td>\n",
       "      <td>21</td>\n",
       "      <td>3</td>\n",
       "      <td>0</td>\n",
       "    </tr>\n",
       "    <tr>\n",
       "      <th>298</th>\n",
       "      <td>299</td>\n",
       "      <td>Trust9</td>\n",
       "      <td>54</td>\n",
       "      <td>1</td>\n",
       "      <td>0</td>\n",
       "    </tr>\n",
       "    <tr>\n",
       "      <th>299</th>\n",
       "      <td>300</td>\n",
       "      <td>Trust10</td>\n",
       "      <td>93</td>\n",
       "      <td>15</td>\n",
       "      <td>0</td>\n",
       "    </tr>\n",
       "  </tbody>\n",
       "</table>\n",
       "<p>300 rows × 5 columns</p>\n",
       "</div>"
      ],
      "text/plain": [
       "      ID Organisation  Age  LOS  Death\n",
       "0      1       Trust1   55    2      0\n",
       "1      2       Trust2   27    1      0\n",
       "2      3       Trust3   93   12      0\n",
       "3      4       Trust4   45    3      1\n",
       "4      5       Trust5   70   11      0\n",
       "..   ...          ...  ...  ...    ...\n",
       "295  296       Trust6   32    6      0\n",
       "296  297       Trust7   55    6      1\n",
       "297  298       Trust8   21    3      0\n",
       "298  299       Trust9   54    1      0\n",
       "299  300      Trust10   93   15      0\n",
       "\n",
       "[300 rows x 5 columns]"
      ]
     },
     "execution_count": 2,
     "metadata": {},
     "output_type": "execute_result"
    }
   ],
   "source": [
    "#Load the 'pandas' package, which is an useful for data manipulation.  \n",
    "import pandas as pd\n",
    "testData=pd.read_csv(\"../Data/los.csv\")\n",
    "testData #This section is the process of Creation and Storage."
   ]
  },
  {
   "cell_type": "code",
   "execution_count": 3,
   "id": "friendly-pennsylvania",
   "metadata": {
    "tags": [
     "hide-input"
    ]
   },
   "outputs": [
    {
     "name": "stdout",
     "output_type": "stream",
     "text": [
      "Output:\n",
      "ID               int64\n",
      "Organisation    object\n",
      "Age              int64\n",
      "LOS              int64\n",
      "Death            int64\n",
      "dtype: object\n"
     ]
    }
   ],
   "source": [
    "#Data type: I check the data type in the testData data frame. The dtypes function is imported from the pandas package to know the data types in the testData. The dtypes function returns the data types in the data frame.\n",
    "result = testData.dtypes\n",
    "print(\"Output:\")\n",
    "print(result)# This section is the start of the process of Synthesis."
   ]
  },
  {
   "cell_type": "code",
   "execution_count": 4,
   "id": "residential-index",
   "metadata": {
    "tags": [
     "hide-input"
    ]
   },
   "outputs": [
    {
     "data": {
      "text/html": [
       "<div>\n",
       "<style scoped>\n",
       "    .dataframe tbody tr th:only-of-type {\n",
       "        vertical-align: middle;\n",
       "    }\n",
       "\n",
       "    .dataframe tbody tr th {\n",
       "        vertical-align: top;\n",
       "    }\n",
       "\n",
       "    .dataframe thead th {\n",
       "        text-align: right;\n",
       "    }\n",
       "</style>\n",
       "<table border=\"1\" class=\"dataframe\">\n",
       "  <thead>\n",
       "    <tr style=\"text-align: right;\">\n",
       "      <th></th>\n",
       "      <th>ID</th>\n",
       "      <th>Organisation</th>\n",
       "      <th>Age</th>\n",
       "      <th>LOS</th>\n",
       "      <th>Consent</th>\n",
       "    </tr>\n",
       "  </thead>\n",
       "  <tbody>\n",
       "    <tr>\n",
       "      <th>0</th>\n",
       "      <td>0</td>\n",
       "      <td>NA</td>\n",
       "      <td>0</td>\n",
       "      <td>0</td>\n",
       "      <td>False</td>\n",
       "    </tr>\n",
       "  </tbody>\n",
       "</table>\n",
       "</div>"
      ],
      "text/plain": [
       "   ID Organisation  Age  LOS  Consent\n",
       "0   0           NA    0    0    False"
      ]
     },
     "execution_count": 4,
     "metadata": {},
     "output_type": "execute_result"
    }
   ],
   "source": [
    "#Set up an empty data frame in the working data folder to gather the data captured by the Juypter widgets.\n",
    "#ID:Integer, Organisation: String, Age: Integer, LOS: integer, Consent: Boolean\n",
    "dfTofill = pd.DataFrame({'ID': [0],'Organisation': ['NA'],'Age': [0], 'LOS': [0], \"Consent\":[False]})\n",
    "dfTofill"
   ]
  },
  {
   "cell_type": "code",
   "execution_count": 5,
   "id": "dated-compiler",
   "metadata": {},
   "outputs": [],
   "source": [
    "dfTofill.to_csv('../Data/LOS_Data_frame_CollectedData.csv',index=False)#Saved the empty data frame to my Data folder"
   ]
  },
  {
   "cell_type": "code",
   "execution_count": 6,
   "id": "quantitative-wholesale",
   "metadata": {},
   "outputs": [
    {
     "data": {
      "text/html": [
       "<div>\n",
       "<style scoped>\n",
       "    .dataframe tbody tr th:only-of-type {\n",
       "        vertical-align: middle;\n",
       "    }\n",
       "\n",
       "    .dataframe tbody tr th {\n",
       "        vertical-align: top;\n",
       "    }\n",
       "\n",
       "    .dataframe thead th {\n",
       "        text-align: right;\n",
       "    }\n",
       "</style>\n",
       "<table border=\"1\" class=\"dataframe\">\n",
       "  <thead>\n",
       "    <tr style=\"text-align: right;\">\n",
       "      <th></th>\n",
       "      <th>ID</th>\n",
       "      <th>Organisation</th>\n",
       "      <th>Age</th>\n",
       "      <th>LOS</th>\n",
       "      <th>Consent</th>\n",
       "    </tr>\n",
       "  </thead>\n",
       "  <tbody>\n",
       "    <tr>\n",
       "      <th>0</th>\n",
       "      <td>0</td>\n",
       "      <td>NaN</td>\n",
       "      <td>0</td>\n",
       "      <td>0</td>\n",
       "      <td>False</td>\n",
       "    </tr>\n",
       "  </tbody>\n",
       "</table>\n",
       "</div>"
      ],
      "text/plain": [
       "   ID  Organisation  Age  LOS  Consent\n",
       "0   0           NaN    0    0    False"
      ]
     },
     "execution_count": 6,
     "metadata": {},
     "output_type": "execute_result"
    }
   ],
   "source": [
    "CollectData=pd.read_csv(\"../Data/LOS_Data_frame_CollectedData.csv\")\n",
    "CollectData #The empty data frame is now saved to the working ‘Data’ folder. I can read in the empty data frame. "
   ]
  },
  {
   "cell_type": "markdown",
   "id": "sealed-chemistry",
   "metadata": {},
   "source": [
    "####  Indexing in Python: Indexing in Python is important to choose the individual data by positioning. "
   ]
  },
  {
   "cell_type": "code",
   "execution_count": 7,
   "id": "entire-soundtrack",
   "metadata": {},
   "outputs": [
    {
     "data": {
      "text/html": [
       "<div>\n",
       "<style scoped>\n",
       "    .dataframe tbody tr th:only-of-type {\n",
       "        vertical-align: middle;\n",
       "    }\n",
       "\n",
       "    .dataframe tbody tr th {\n",
       "        vertical-align: top;\n",
       "    }\n",
       "\n",
       "    .dataframe thead th {\n",
       "        text-align: right;\n",
       "    }\n",
       "</style>\n",
       "<table border=\"1\" class=\"dataframe\">\n",
       "  <thead>\n",
       "    <tr style=\"text-align: right;\">\n",
       "      <th></th>\n",
       "      <th>ID</th>\n",
       "      <th>Organisation</th>\n",
       "      <th>Age</th>\n",
       "      <th>LOS</th>\n",
       "      <th>Consent</th>\n",
       "    </tr>\n",
       "  </thead>\n",
       "  <tbody>\n",
       "    <tr>\n",
       "      <th>0</th>\n",
       "      <td>301</td>\n",
       "      <td>NA</td>\n",
       "      <td>0</td>\n",
       "      <td>0</td>\n",
       "      <td>False</td>\n",
       "    </tr>\n",
       "  </tbody>\n",
       "</table>\n",
       "</div>"
      ],
      "text/plain": [
       "    ID Organisation  Age  LOS  Consent\n",
       "0  301           NA    0    0    False"
      ]
     },
     "execution_count": 7,
     "metadata": {},
     "output_type": "execute_result"
    }
   ],
   "source": [
    "index_number=301 #Remember to change for each record.\n",
    "dfTofill.iloc[0,0]=index_number\n",
    "dfTofill"
   ]
  },
  {
   "cell_type": "code",
   "execution_count": 8,
   "id": "accredited-contrary",
   "metadata": {},
   "outputs": [],
   "source": [
    "#Widgets: I use to create graphical user-frentdly interface like a button, dropdown or textbox. \n",
    "import ipywidgets as widgets #Load the 'ipywidgets' package\n",
    "from IPython.display import display #The IPython.display package is loaded to display different objects in Jupyter. "
   ]
  },
  {
   "cell_type": "markdown",
   "id": "covered-effects",
   "metadata": {},
   "source": [
    "#### Consent: Consent is a critcal element for data protection compliance. Consent expain the freedom to perticiapate the clinical research for smooth process to get their data. The [General Data Protection Regulation]. Before the reseachers obtain any data, they need to get consent from the patient to process and share the data the researchers will collect with the data capture tool."
   ]
  },
  {
   "cell_type": "code",
   "execution_count": 9,
   "id": "compact-worship",
   "metadata": {
    "tags": [
     "hide-input"
    ]
   },
   "outputs": [
    {
     "data": {
      "application/vnd.jupyter.widget-view+json": {
       "model_id": "93f3c93b7dd441c5af1c54d5d2c57142",
       "version_major": 2,
       "version_minor": 0
      },
      "text/plain": [
       "Checkbox(value=False, description='I consent for the data I have provided to be processed and shared in accord…"
      ]
     },
     "metadata": {},
     "output_type": "display_data"
    }
   ],
   "source": [
    "# Boolean widgets: Boolean widgets are designed to display a boolean value. This is Checkbox widget\n",
    "a = widgets.Checkbox(\n",
    "    value=False,\n",
    "    description='I consent for the data I have provided to be processed and shared in accordance with data protection regulations with the purpose of improving care service provision across the UK.',\n",
    "    disabled=False\n",
    ")\n",
    "display(a)#Please check the box to claim that I have consent. "
   ]
  },
  {
   "cell_type": "code",
   "execution_count": 11,
   "id": "higher-framework",
   "metadata": {},
   "outputs": [
    {
     "data": {
      "text/html": [
       "<div>\n",
       "<style scoped>\n",
       "    .dataframe tbody tr th:only-of-type {\n",
       "        vertical-align: middle;\n",
       "    }\n",
       "\n",
       "    .dataframe tbody tr th {\n",
       "        vertical-align: top;\n",
       "    }\n",
       "\n",
       "    .dataframe thead th {\n",
       "        text-align: right;\n",
       "    }\n",
       "</style>\n",
       "<table border=\"1\" class=\"dataframe\">\n",
       "  <thead>\n",
       "    <tr style=\"text-align: right;\">\n",
       "      <th></th>\n",
       "      <th>ID</th>\n",
       "      <th>Organisation</th>\n",
       "      <th>Age</th>\n",
       "      <th>LOS</th>\n",
       "      <th>Consent</th>\n",
       "    </tr>\n",
       "  </thead>\n",
       "  <tbody>\n",
       "    <tr>\n",
       "      <th>0</th>\n",
       "      <td>301</td>\n",
       "      <td>NA</td>\n",
       "      <td>0</td>\n",
       "      <td>0</td>\n",
       "      <td>True</td>\n",
       "    </tr>\n",
       "  </tbody>\n",
       "</table>\n",
       "</div>"
      ],
      "text/plain": [
       "    ID Organisation  Age  LOS  Consent\n",
       "0  301           NA    0    0     True"
      ]
     },
     "execution_count": 11,
     "metadata": {},
     "output_type": "execute_result"
    }
   ],
   "source": [
    "dfTofill.iloc[0,4]=a.value # I added the value in the empty data frame.\n",
    "dfTofill"
   ]
  },
  {
   "cell_type": "code",
   "execution_count": 12,
   "id": "passive-killer",
   "metadata": {},
   "outputs": [
    {
     "name": "stdout",
     "output_type": "stream",
     "text": [
      "object\n"
     ]
    },
    {
     "data": {
      "text/html": [
       "<div>\n",
       "<style scoped>\n",
       "    .dataframe tbody tr th:only-of-type {\n",
       "        vertical-align: middle;\n",
       "    }\n",
       "\n",
       "    .dataframe tbody tr th {\n",
       "        vertical-align: top;\n",
       "    }\n",
       "\n",
       "    .dataframe thead th {\n",
       "        text-align: right;\n",
       "    }\n",
       "</style>\n",
       "<table border=\"1\" class=\"dataframe\">\n",
       "  <thead>\n",
       "    <tr style=\"text-align: right;\">\n",
       "      <th></th>\n",
       "      <th>ID</th>\n",
       "      <th>Organisation</th>\n",
       "      <th>Age</th>\n",
       "      <th>LOS</th>\n",
       "      <th>Death</th>\n",
       "    </tr>\n",
       "  </thead>\n",
       "  <tbody>\n",
       "    <tr>\n",
       "      <th>0</th>\n",
       "      <td>1</td>\n",
       "      <td>Trust1</td>\n",
       "      <td>55</td>\n",
       "      <td>2</td>\n",
       "      <td>0</td>\n",
       "    </tr>\n",
       "  </tbody>\n",
       "</table>\n",
       "</div>"
      ],
      "text/plain": [
       "   ID Organisation  Age  LOS  Death\n",
       "0   1       Trust1   55    2      0"
      ]
     },
     "execution_count": 12,
     "metadata": {},
     "output_type": "execute_result"
    }
   ],
   "source": [
    "print(result[1]) #String data type\n",
    "testData.head(n=1)"
   ]
  },
  {
   "cell_type": "markdown",
   "id": "static-fitness",
   "metadata": {},
   "source": [
    "#### The organisation variable: the organisation variable includes the fictional organisation code. Synthesis start from here.     "
   ]
  },
  {
   "cell_type": "code",
   "execution_count": 13,
   "id": "aware-genetics",
   "metadata": {},
   "outputs": [
    {
     "name": "stdout",
     "output_type": "stream",
     "text": [
      "int64\n"
     ]
    }
   ],
   "source": [
    "print(result[2]) #String data type"
   ]
  },
  {
   "cell_type": "code",
   "execution_count": 14,
   "id": "unexpected-devices",
   "metadata": {
    "tags": [
     "hide-input"
    ]
   },
   "outputs": [
    {
     "data": {
      "text/html": [
       "<div>\n",
       "<style scoped>\n",
       "    .dataframe tbody tr th:only-of-type {\n",
       "        vertical-align: middle;\n",
       "    }\n",
       "\n",
       "    .dataframe tbody tr th {\n",
       "        vertical-align: top;\n",
       "    }\n",
       "\n",
       "    .dataframe thead th {\n",
       "        text-align: right;\n",
       "    }\n",
       "</style>\n",
       "<table border=\"1\" class=\"dataframe\">\n",
       "  <thead>\n",
       "    <tr style=\"text-align: right;\">\n",
       "      <th></th>\n",
       "      <th>ID</th>\n",
       "      <th>Organisation</th>\n",
       "      <th>Age</th>\n",
       "      <th>LOS</th>\n",
       "      <th>Death</th>\n",
       "    </tr>\n",
       "  </thead>\n",
       "  <tbody>\n",
       "    <tr>\n",
       "      <th>count</th>\n",
       "      <td>300.000000</td>\n",
       "      <td>300</td>\n",
       "      <td>300.000000</td>\n",
       "      <td>300.000000</td>\n",
       "      <td>300.000000</td>\n",
       "    </tr>\n",
       "    <tr>\n",
       "      <th>unique</th>\n",
       "      <td>NaN</td>\n",
       "      <td>10</td>\n",
       "      <td>NaN</td>\n",
       "      <td>NaN</td>\n",
       "      <td>NaN</td>\n",
       "    </tr>\n",
       "    <tr>\n",
       "      <th>top</th>\n",
       "      <td>NaN</td>\n",
       "      <td>Trust1</td>\n",
       "      <td>NaN</td>\n",
       "      <td>NaN</td>\n",
       "      <td>NaN</td>\n",
       "    </tr>\n",
       "    <tr>\n",
       "      <th>freq</th>\n",
       "      <td>NaN</td>\n",
       "      <td>30</td>\n",
       "      <td>NaN</td>\n",
       "      <td>NaN</td>\n",
       "      <td>NaN</td>\n",
       "    </tr>\n",
       "    <tr>\n",
       "      <th>mean</th>\n",
       "      <td>150.500000</td>\n",
       "      <td>NaN</td>\n",
       "      <td>50.656667</td>\n",
       "      <td>4.936667</td>\n",
       "      <td>0.176667</td>\n",
       "    </tr>\n",
       "    <tr>\n",
       "      <th>std</th>\n",
       "      <td>86.746758</td>\n",
       "      <td>NaN</td>\n",
       "      <td>27.876798</td>\n",
       "      <td>3.617958</td>\n",
       "      <td>0.382024</td>\n",
       "    </tr>\n",
       "    <tr>\n",
       "      <th>min</th>\n",
       "      <td>1.000000</td>\n",
       "      <td>NaN</td>\n",
       "      <td>5.000000</td>\n",
       "      <td>1.000000</td>\n",
       "      <td>0.000000</td>\n",
       "    </tr>\n",
       "    <tr>\n",
       "      <th>25%</th>\n",
       "      <td>75.750000</td>\n",
       "      <td>NaN</td>\n",
       "      <td>24.000000</td>\n",
       "      <td>2.000000</td>\n",
       "      <td>0.000000</td>\n",
       "    </tr>\n",
       "    <tr>\n",
       "      <th>50%</th>\n",
       "      <td>150.500000</td>\n",
       "      <td>NaN</td>\n",
       "      <td>54.000000</td>\n",
       "      <td>4.000000</td>\n",
       "      <td>0.000000</td>\n",
       "    </tr>\n",
       "    <tr>\n",
       "      <th>75%</th>\n",
       "      <td>225.250000</td>\n",
       "      <td>NaN</td>\n",
       "      <td>75.250000</td>\n",
       "      <td>7.000000</td>\n",
       "      <td>0.000000</td>\n",
       "    </tr>\n",
       "    <tr>\n",
       "      <th>max</th>\n",
       "      <td>300.000000</td>\n",
       "      <td>NaN</td>\n",
       "      <td>95.000000</td>\n",
       "      <td>18.000000</td>\n",
       "      <td>1.000000</td>\n",
       "    </tr>\n",
       "  </tbody>\n",
       "</table>\n",
       "</div>"
      ],
      "text/plain": [
       "                ID Organisation         Age         LOS       Death\n",
       "count   300.000000          300  300.000000  300.000000  300.000000\n",
       "unique         NaN           10         NaN         NaN         NaN\n",
       "top            NaN       Trust1         NaN         NaN         NaN\n",
       "freq           NaN           30         NaN         NaN         NaN\n",
       "mean    150.500000          NaN   50.656667    4.936667    0.176667\n",
       "std      86.746758          NaN   27.876798    3.617958    0.382024\n",
       "min       1.000000          NaN    5.000000    1.000000    0.000000\n",
       "25%      75.750000          NaN   24.000000    2.000000    0.000000\n",
       "50%     150.500000          NaN   54.000000    4.000000    0.000000\n",
       "75%     225.250000          NaN   75.250000    7.000000    0.000000\n",
       "max     300.000000          NaN   95.000000   18.000000    1.000000"
      ]
     },
     "execution_count": 14,
     "metadata": {},
     "output_type": "execute_result"
    }
   ],
   "source": [
    "import numpy as np #Load the 'numpy' package\n",
    "testData.describe(include='all') #I use the `describe()` function from the *numpy* Python package to calculate summary statistics for the testData data frame. The numpy package is useful for statistical analysis."
   ]
  },
  {
   "cell_type": "code",
   "execution_count": 15,
   "id": "lightweight-sweden",
   "metadata": {},
   "outputs": [
    {
     "data": {
      "text/plain": [
       "['Trust1',\n",
       " 'Trust2',\n",
       " 'Trust3',\n",
       " 'Trust4',\n",
       " 'Trust5',\n",
       " 'Trust6',\n",
       " 'Trust7',\n",
       " 'Trust8',\n",
       " 'Trust9',\n",
       " 'Trust10']"
      ]
     },
     "execution_count": 15,
     "metadata": {},
     "output_type": "execute_result"
    }
   ],
   "source": [
    "org=list(testData['Organisation'].unique()) # I used the pandas package `unique()` function to get the unique\n",
    "org                                         # Organisation codes in the test data."
   ]
  },
  {
   "cell_type": "code",
   "execution_count": 16,
   "id": "imperial-loading",
   "metadata": {},
   "outputs": [
    {
     "data": {
      "text/html": [
       "<div>\n",
       "<style scoped>\n",
       "    .dataframe tbody tr th:only-of-type {\n",
       "        vertical-align: middle;\n",
       "    }\n",
       "\n",
       "    .dataframe tbody tr th {\n",
       "        vertical-align: top;\n",
       "    }\n",
       "\n",
       "    .dataframe thead th {\n",
       "        text-align: right;\n",
       "    }\n",
       "</style>\n",
       "<table border=\"1\" class=\"dataframe\">\n",
       "  <thead>\n",
       "    <tr style=\"text-align: right;\">\n",
       "      <th></th>\n",
       "      <th>ID</th>\n",
       "      <th>Organisation</th>\n",
       "      <th>Age</th>\n",
       "      <th>LOS</th>\n",
       "      <th>Death</th>\n",
       "    </tr>\n",
       "  </thead>\n",
       "  <tbody>\n",
       "    <tr>\n",
       "      <th>0</th>\n",
       "      <td>1</td>\n",
       "      <td>Trust1</td>\n",
       "      <td>55</td>\n",
       "      <td>2</td>\n",
       "      <td>0</td>\n",
       "    </tr>\n",
       "  </tbody>\n",
       "</table>\n",
       "</div>"
      ],
      "text/plain": [
       "   ID Organisation  Age  LOS  Death\n",
       "0   1       Trust1   55    2      0"
      ]
     },
     "execution_count": 16,
     "metadata": {},
     "output_type": "execute_result"
    }
   ],
   "source": [
    "testData.head(n=1)# Look at the head of data"
   ]
  },
  {
   "cell_type": "markdown",
   "id": "amateur-princess",
   "metadata": {},
   "source": [
    "#### Selection widgets:Several widgets can be used to display single selection lists. I specify the selectable options by passing a list.  "
   ]
  },
  {
   "cell_type": "code",
   "execution_count": 17,
   "id": "vocational-thursday",
   "metadata": {},
   "outputs": [
    {
     "data": {
      "application/vnd.jupyter.widget-view+json": {
       "model_id": "1dea4717386244e8ba6e2949519bd313",
       "version_major": 2,
       "version_minor": 0
      },
      "text/plain": [
       "Select(description='Organisation:', options=('Trust1', 'Trust2', 'Trust3', 'Trust4', 'Trust5', 'Trust6', 'Trus…"
      ]
     },
     "metadata": {},
     "output_type": "display_data"
    }
   ],
   "source": [
    "c=widgets.Select(# I made the values to specific vatiables in the empty frame or existing frames.\n",
    "    options=org,\n",
    "    rows=len(org),\n",
    "    description='Organisation:',\n",
    "    disabled=False)\n",
    "display(c)"
   ]
  },
  {
   "cell_type": "code",
   "execution_count": 18,
   "id": "informed-hospital",
   "metadata": {},
   "outputs": [
    {
     "data": {
      "text/html": [
       "<div>\n",
       "<style scoped>\n",
       "    .dataframe tbody tr th:only-of-type {\n",
       "        vertical-align: middle;\n",
       "    }\n",
       "\n",
       "    .dataframe tbody tr th {\n",
       "        vertical-align: top;\n",
       "    }\n",
       "\n",
       "    .dataframe thead th {\n",
       "        text-align: right;\n",
       "    }\n",
       "</style>\n",
       "<table border=\"1\" class=\"dataframe\">\n",
       "  <thead>\n",
       "    <tr style=\"text-align: right;\">\n",
       "      <th></th>\n",
       "      <th>ID</th>\n",
       "      <th>Organisation</th>\n",
       "      <th>Age</th>\n",
       "      <th>LOS</th>\n",
       "      <th>Consent</th>\n",
       "    </tr>\n",
       "  </thead>\n",
       "  <tbody>\n",
       "    <tr>\n",
       "      <th>0</th>\n",
       "      <td>301</td>\n",
       "      <td>Trust1</td>\n",
       "      <td>0</td>\n",
       "      <td>0</td>\n",
       "      <td>True</td>\n",
       "    </tr>\n",
       "  </tbody>\n",
       "</table>\n",
       "</div>"
      ],
      "text/plain": [
       "    ID Organisation  Age  LOS  Consent\n",
       "0  301       Trust1    0    0     True"
      ]
     },
     "execution_count": 18,
     "metadata": {},
     "output_type": "execute_result"
    }
   ],
   "source": [
    "dfTofill.iloc[0,1]=c.value # I added the value in the empty data frame.\n",
    "dfTofill"
   ]
  },
  {
   "cell_type": "code",
   "execution_count": 19,
   "id": "south-worse",
   "metadata": {},
   "outputs": [
    {
     "name": "stdout",
     "output_type": "stream",
     "text": [
      "object\n"
     ]
    }
   ],
   "source": [
    "print(result[1]) # The type variable is String data type"
   ]
  },
  {
   "cell_type": "code",
   "execution_count": 20,
   "id": "fantastic-despite",
   "metadata": {},
   "outputs": [
    {
     "data": {
      "text/html": [
       "<div>\n",
       "<style scoped>\n",
       "    .dataframe tbody tr th:only-of-type {\n",
       "        vertical-align: middle;\n",
       "    }\n",
       "\n",
       "    .dataframe tbody tr th {\n",
       "        vertical-align: top;\n",
       "    }\n",
       "\n",
       "    .dataframe thead th {\n",
       "        text-align: right;\n",
       "    }\n",
       "</style>\n",
       "<table border=\"1\" class=\"dataframe\">\n",
       "  <thead>\n",
       "    <tr style=\"text-align: right;\">\n",
       "      <th></th>\n",
       "      <th>ID</th>\n",
       "      <th>Organisation</th>\n",
       "      <th>Age</th>\n",
       "      <th>LOS</th>\n",
       "      <th>Death</th>\n",
       "    </tr>\n",
       "  </thead>\n",
       "  <tbody>\n",
       "    <tr>\n",
       "      <th>0</th>\n",
       "      <td>1</td>\n",
       "      <td>Trust1</td>\n",
       "      <td>55</td>\n",
       "      <td>2</td>\n",
       "      <td>0</td>\n",
       "    </tr>\n",
       "    <tr>\n",
       "      <th>1</th>\n",
       "      <td>2</td>\n",
       "      <td>Trust2</td>\n",
       "      <td>27</td>\n",
       "      <td>1</td>\n",
       "      <td>0</td>\n",
       "    </tr>\n",
       "    <tr>\n",
       "      <th>2</th>\n",
       "      <td>3</td>\n",
       "      <td>Trust3</td>\n",
       "      <td>93</td>\n",
       "      <td>12</td>\n",
       "      <td>0</td>\n",
       "    </tr>\n",
       "    <tr>\n",
       "      <th>3</th>\n",
       "      <td>4</td>\n",
       "      <td>Trust4</td>\n",
       "      <td>45</td>\n",
       "      <td>3</td>\n",
       "      <td>1</td>\n",
       "    </tr>\n",
       "    <tr>\n",
       "      <th>4</th>\n",
       "      <td>5</td>\n",
       "      <td>Trust5</td>\n",
       "      <td>70</td>\n",
       "      <td>11</td>\n",
       "      <td>0</td>\n",
       "    </tr>\n",
       "    <tr>\n",
       "      <th>5</th>\n",
       "      <td>6</td>\n",
       "      <td>Trust6</td>\n",
       "      <td>60</td>\n",
       "      <td>7</td>\n",
       "      <td>0</td>\n",
       "    </tr>\n",
       "    <tr>\n",
       "      <th>6</th>\n",
       "      <td>7</td>\n",
       "      <td>Trust7</td>\n",
       "      <td>25</td>\n",
       "      <td>4</td>\n",
       "      <td>0</td>\n",
       "    </tr>\n",
       "    <tr>\n",
       "      <th>7</th>\n",
       "      <td>8</td>\n",
       "      <td>Trust8</td>\n",
       "      <td>48</td>\n",
       "      <td>4</td>\n",
       "      <td>0</td>\n",
       "    </tr>\n",
       "    <tr>\n",
       "      <th>8</th>\n",
       "      <td>9</td>\n",
       "      <td>Trust9</td>\n",
       "      <td>51</td>\n",
       "      <td>7</td>\n",
       "      <td>1</td>\n",
       "    </tr>\n",
       "    <tr>\n",
       "      <th>9</th>\n",
       "      <td>10</td>\n",
       "      <td>Trust10</td>\n",
       "      <td>81</td>\n",
       "      <td>1</td>\n",
       "      <td>0</td>\n",
       "    </tr>\n",
       "  </tbody>\n",
       "</table>\n",
       "</div>"
      ],
      "text/plain": [
       "   ID Organisation  Age  LOS  Death\n",
       "0   1       Trust1   55    2      0\n",
       "1   2       Trust2   27    1      0\n",
       "2   3       Trust3   93   12      0\n",
       "3   4       Trust4   45    3      1\n",
       "4   5       Trust5   70   11      0\n",
       "5   6       Trust6   60    7      0\n",
       "6   7       Trust7   25    4      0\n",
       "7   8       Trust8   48    4      0\n",
       "8   9       Trust9   51    7      1\n",
       "9  10      Trust10   81    1      0"
      ]
     },
     "execution_count": 20,
     "metadata": {},
     "output_type": "execute_result"
    }
   ],
   "source": [
    "type=list(testData['Organisation'].unique())\n",
    "type #I first use the *pandas* package `unique()` function to get the unique department type in the test data.\n",
    "testData.head(n=10)"
   ]
  },
  {
   "cell_type": "markdown",
   "id": "auburn-correspondence",
   "metadata": {},
   "source": [
    "#### The numeric variable includes the number of the length of stay in hospital and and death numbers."
   ]
  },
  {
   "cell_type": "code",
   "execution_count": 21,
   "id": "conditional-channels",
   "metadata": {},
   "outputs": [
    {
     "name": "stdout",
     "output_type": "stream",
     "text": [
      "int64\n"
     ]
    },
    {
     "data": {
      "text/html": [
       "<div>\n",
       "<style scoped>\n",
       "    .dataframe tbody tr th:only-of-type {\n",
       "        vertical-align: middle;\n",
       "    }\n",
       "\n",
       "    .dataframe tbody tr th {\n",
       "        vertical-align: top;\n",
       "    }\n",
       "\n",
       "    .dataframe thead th {\n",
       "        text-align: right;\n",
       "    }\n",
       "</style>\n",
       "<table border=\"1\" class=\"dataframe\">\n",
       "  <thead>\n",
       "    <tr style=\"text-align: right;\">\n",
       "      <th></th>\n",
       "      <th>ID</th>\n",
       "      <th>Organisation</th>\n",
       "      <th>Age</th>\n",
       "      <th>LOS</th>\n",
       "      <th>Death</th>\n",
       "    </tr>\n",
       "  </thead>\n",
       "  <tbody>\n",
       "    <tr>\n",
       "      <th>0</th>\n",
       "      <td>1</td>\n",
       "      <td>Trust1</td>\n",
       "      <td>55</td>\n",
       "      <td>2</td>\n",
       "      <td>0</td>\n",
       "    </tr>\n",
       "  </tbody>\n",
       "</table>\n",
       "</div>"
      ],
      "text/plain": [
       "   ID Organisation  Age  LOS  Death\n",
       "0   1       Trust1   55    2      0"
      ]
     },
     "execution_count": 21,
     "metadata": {},
     "output_type": "execute_result"
    }
   ],
   "source": [
    "print(result[2])# The type variable is numeric data type\n",
    "testData.head(n=1)"
   ]
  },
  {
   "cell_type": "markdown",
   "id": "civil-excess",
   "metadata": {},
   "source": [
    "#### Numeric widgets: Widgets exist for displaying integers and floats, both bounded and unbounded. The integer widgets share a similar naming scheme to their floating point counterparts. By replacing Float with Int in the widget name, you can find the Integer equivalent."
   ]
  },
  {
   "cell_type": "code",
   "execution_count": 22,
   "id": "coupled-optimum",
   "metadata": {},
   "outputs": [
    {
     "data": {
      "application/vnd.jupyter.widget-view+json": {
       "model_id": "37f63cf3eb6d4eda92eb9b8e7301e6d4",
       "version_major": 2,
       "version_minor": 0
      },
      "text/plain": [
       "IntText(value=0, description='Age:')"
      ]
     },
     "metadata": {},
     "output_type": "display_data"
    }
   ],
   "source": [
    "e=widgets.IntText(# I made the values to input specific vatiables in the empty frame or existing frames.\n",
    "    value=0,\n",
    "    description='Age:',\n",
    "    disabled=False)\n",
    "display(e) "
   ]
  },
  {
   "cell_type": "code",
   "execution_count": 23,
   "id": "competitive-following",
   "metadata": {},
   "outputs": [
    {
     "data": {
      "text/html": [
       "<div>\n",
       "<style scoped>\n",
       "    .dataframe tbody tr th:only-of-type {\n",
       "        vertical-align: middle;\n",
       "    }\n",
       "\n",
       "    .dataframe tbody tr th {\n",
       "        vertical-align: top;\n",
       "    }\n",
       "\n",
       "    .dataframe thead th {\n",
       "        text-align: right;\n",
       "    }\n",
       "</style>\n",
       "<table border=\"1\" class=\"dataframe\">\n",
       "  <thead>\n",
       "    <tr style=\"text-align: right;\">\n",
       "      <th></th>\n",
       "      <th>ID</th>\n",
       "      <th>Organisation</th>\n",
       "      <th>Age</th>\n",
       "      <th>LOS</th>\n",
       "      <th>Consent</th>\n",
       "    </tr>\n",
       "  </thead>\n",
       "  <tbody>\n",
       "    <tr>\n",
       "      <th>0</th>\n",
       "      <td>301</td>\n",
       "      <td>Trust1</td>\n",
       "      <td>99</td>\n",
       "      <td>0</td>\n",
       "      <td>True</td>\n",
       "    </tr>\n",
       "  </tbody>\n",
       "</table>\n",
       "</div>"
      ],
      "text/plain": [
       "    ID Organisation  Age  LOS  Consent\n",
       "0  301       Trust1   99    0     True"
      ]
     },
     "execution_count": 23,
     "metadata": {},
     "output_type": "execute_result"
    }
   ],
   "source": [
    "dfTofill.iloc[0,2]=e.value # I added the value in the empty data frame.\n",
    "dfTofill"
   ]
  },
  {
   "cell_type": "markdown",
   "id": "radio-cross",
   "metadata": {},
   "source": [
    "#### The numeric variable of length of stay in hosptal"
   ]
  },
  {
   "cell_type": "code",
   "execution_count": 24,
   "id": "original-obligation",
   "metadata": {},
   "outputs": [
    {
     "name": "stdout",
     "output_type": "stream",
     "text": [
      "int64\n"
     ]
    },
    {
     "data": {
      "text/html": [
       "<div>\n",
       "<style scoped>\n",
       "    .dataframe tbody tr th:only-of-type {\n",
       "        vertical-align: middle;\n",
       "    }\n",
       "\n",
       "    .dataframe tbody tr th {\n",
       "        vertical-align: top;\n",
       "    }\n",
       "\n",
       "    .dataframe thead th {\n",
       "        text-align: right;\n",
       "    }\n",
       "</style>\n",
       "<table border=\"1\" class=\"dataframe\">\n",
       "  <thead>\n",
       "    <tr style=\"text-align: right;\">\n",
       "      <th></th>\n",
       "      <th>ID</th>\n",
       "      <th>Organisation</th>\n",
       "      <th>Age</th>\n",
       "      <th>LOS</th>\n",
       "      <th>Death</th>\n",
       "    </tr>\n",
       "  </thead>\n",
       "  <tbody>\n",
       "    <tr>\n",
       "      <th>0</th>\n",
       "      <td>1</td>\n",
       "      <td>Trust1</td>\n",
       "      <td>55</td>\n",
       "      <td>2</td>\n",
       "      <td>0</td>\n",
       "    </tr>\n",
       "  </tbody>\n",
       "</table>\n",
       "</div>"
      ],
      "text/plain": [
       "   ID Organisation  Age  LOS  Death\n",
       "0   1       Trust1   55    2      0"
      ]
     },
     "execution_count": 24,
     "metadata": {},
     "output_type": "execute_result"
    }
   ],
   "source": [
    "print(result[3])# The type variable is numeric data type\n",
    "testData.head(1)"
   ]
  },
  {
   "cell_type": "code",
   "execution_count": 25,
   "id": "irish-renewal",
   "metadata": {},
   "outputs": [
    {
     "data": {
      "application/vnd.jupyter.widget-view+json": {
       "model_id": "2cfb72e425e341f6ae8a06ce496eb1db",
       "version_major": 2,
       "version_minor": 0
      },
      "text/plain": [
       "IntText(value=0, description='LOS:')"
      ]
     },
     "metadata": {},
     "output_type": "display_data"
    }
   ],
   "source": [
    "f=widgets.IntText(# I made the values to enter specific vatiables in the empty frame or existing frames.\n",
    "    value=0,\n",
    "    description='LOS:',\n",
    "    disabled=False)\n",
    "display(f)"
   ]
  },
  {
   "cell_type": "code",
   "execution_count": 26,
   "id": "filled-ballet",
   "metadata": {},
   "outputs": [
    {
     "data": {
      "text/html": [
       "<div>\n",
       "<style scoped>\n",
       "    .dataframe tbody tr th:only-of-type {\n",
       "        vertical-align: middle;\n",
       "    }\n",
       "\n",
       "    .dataframe tbody tr th {\n",
       "        vertical-align: top;\n",
       "    }\n",
       "\n",
       "    .dataframe thead th {\n",
       "        text-align: right;\n",
       "    }\n",
       "</style>\n",
       "<table border=\"1\" class=\"dataframe\">\n",
       "  <thead>\n",
       "    <tr style=\"text-align: right;\">\n",
       "      <th></th>\n",
       "      <th>ID</th>\n",
       "      <th>Organisation</th>\n",
       "      <th>Age</th>\n",
       "      <th>LOS</th>\n",
       "      <th>Consent</th>\n",
       "    </tr>\n",
       "  </thead>\n",
       "  <tbody>\n",
       "    <tr>\n",
       "      <th>0</th>\n",
       "      <td>301</td>\n",
       "      <td>Trust1</td>\n",
       "      <td>99</td>\n",
       "      <td>1000</td>\n",
       "      <td>True</td>\n",
       "    </tr>\n",
       "  </tbody>\n",
       "</table>\n",
       "</div>"
      ],
      "text/plain": [
       "    ID Organisation  Age   LOS  Consent\n",
       "0  301       Trust1   99  1000     True"
      ]
     },
     "execution_count": 26,
     "metadata": {},
     "output_type": "execute_result"
    }
   ],
   "source": [
    "dfTofill.iloc[0,3]=f.value # I added the value in the empty data frame.\n",
    "dfTofill"
   ]
  },
  {
   "cell_type": "markdown",
   "id": "concerned-algeria",
   "metadata": {},
   "source": [
    "#### Concatenating the collected data to the CollectData data frame.   "
   ]
  },
  {
   "cell_type": "code",
   "execution_count": 27,
   "id": "reserved-tomato",
   "metadata": {
    "scrolled": true
   },
   "outputs": [
    {
     "data": {
      "text/html": [
       "<div>\n",
       "<style scoped>\n",
       "    .dataframe tbody tr th:only-of-type {\n",
       "        vertical-align: middle;\n",
       "    }\n",
       "\n",
       "    .dataframe tbody tr th {\n",
       "        vertical-align: top;\n",
       "    }\n",
       "\n",
       "    .dataframe thead th {\n",
       "        text-align: right;\n",
       "    }\n",
       "</style>\n",
       "<table border=\"1\" class=\"dataframe\">\n",
       "  <thead>\n",
       "    <tr style=\"text-align: right;\">\n",
       "      <th></th>\n",
       "      <th>ID</th>\n",
       "      <th>Organisation</th>\n",
       "      <th>Age</th>\n",
       "      <th>LOS</th>\n",
       "      <th>Consent</th>\n",
       "      <th>Death</th>\n",
       "    </tr>\n",
       "  </thead>\n",
       "  <tbody>\n",
       "    <tr>\n",
       "      <th>0</th>\n",
       "      <td>0</td>\n",
       "      <td>NaN</td>\n",
       "      <td>0</td>\n",
       "      <td>0</td>\n",
       "      <td>False</td>\n",
       "      <td>NaN</td>\n",
       "    </tr>\n",
       "    <tr>\n",
       "      <th>0</th>\n",
       "      <td>1</td>\n",
       "      <td>Trust1</td>\n",
       "      <td>55</td>\n",
       "      <td>2</td>\n",
       "      <td>NaN</td>\n",
       "      <td>0.0</td>\n",
       "    </tr>\n",
       "    <tr>\n",
       "      <th>1</th>\n",
       "      <td>2</td>\n",
       "      <td>Trust2</td>\n",
       "      <td>27</td>\n",
       "      <td>1</td>\n",
       "      <td>NaN</td>\n",
       "      <td>0.0</td>\n",
       "    </tr>\n",
       "    <tr>\n",
       "      <th>2</th>\n",
       "      <td>3</td>\n",
       "      <td>Trust3</td>\n",
       "      <td>93</td>\n",
       "      <td>12</td>\n",
       "      <td>NaN</td>\n",
       "      <td>0.0</td>\n",
       "    </tr>\n",
       "    <tr>\n",
       "      <th>3</th>\n",
       "      <td>4</td>\n",
       "      <td>Trust4</td>\n",
       "      <td>45</td>\n",
       "      <td>3</td>\n",
       "      <td>NaN</td>\n",
       "      <td>1.0</td>\n",
       "    </tr>\n",
       "    <tr>\n",
       "      <th>...</th>\n",
       "      <td>...</td>\n",
       "      <td>...</td>\n",
       "      <td>...</td>\n",
       "      <td>...</td>\n",
       "      <td>...</td>\n",
       "      <td>...</td>\n",
       "    </tr>\n",
       "    <tr>\n",
       "      <th>296</th>\n",
       "      <td>297</td>\n",
       "      <td>Trust7</td>\n",
       "      <td>55</td>\n",
       "      <td>6</td>\n",
       "      <td>NaN</td>\n",
       "      <td>1.0</td>\n",
       "    </tr>\n",
       "    <tr>\n",
       "      <th>297</th>\n",
       "      <td>298</td>\n",
       "      <td>Trust8</td>\n",
       "      <td>21</td>\n",
       "      <td>3</td>\n",
       "      <td>NaN</td>\n",
       "      <td>0.0</td>\n",
       "    </tr>\n",
       "    <tr>\n",
       "      <th>298</th>\n",
       "      <td>299</td>\n",
       "      <td>Trust9</td>\n",
       "      <td>54</td>\n",
       "      <td>1</td>\n",
       "      <td>NaN</td>\n",
       "      <td>0.0</td>\n",
       "    </tr>\n",
       "    <tr>\n",
       "      <th>299</th>\n",
       "      <td>300</td>\n",
       "      <td>Trust10</td>\n",
       "      <td>93</td>\n",
       "      <td>15</td>\n",
       "      <td>NaN</td>\n",
       "      <td>0.0</td>\n",
       "    </tr>\n",
       "    <tr>\n",
       "      <th>0</th>\n",
       "      <td>301</td>\n",
       "      <td>Trust1</td>\n",
       "      <td>99</td>\n",
       "      <td>1000</td>\n",
       "      <td>True</td>\n",
       "      <td>NaN</td>\n",
       "    </tr>\n",
       "  </tbody>\n",
       "</table>\n",
       "<p>302 rows × 6 columns</p>\n",
       "</div>"
      ],
      "text/plain": [
       "      ID Organisation  Age   LOS Consent  Death\n",
       "0      0          NaN    0     0   False    NaN\n",
       "0      1       Trust1   55     2     NaN    0.0\n",
       "1      2       Trust2   27     1     NaN    0.0\n",
       "2      3       Trust3   93    12     NaN    0.0\n",
       "3      4       Trust4   45     3     NaN    1.0\n",
       "..   ...          ...  ...   ...     ...    ...\n",
       "296  297       Trust7   55     6     NaN    1.0\n",
       "297  298       Trust8   21     3     NaN    0.0\n",
       "298  299       Trust9   54     1     NaN    0.0\n",
       "299  300      Trust10   93    15     NaN    0.0\n",
       "0    301       Trust1   99  1000    True    NaN\n",
       "\n",
       "[302 rows x 6 columns]"
      ]
     },
     "metadata": {},
     "output_type": "display_data"
    }
   ],
   "source": [
    "# I use the `concat()` function from the pandas package to append CollectData, dfTofill data frames and testData.\n",
    "CollectData  = pd.concat([CollectData,testData,dfTofill,])# CollectData is the first data frame \n",
    "display(CollectData) # The testData is the second frame and dfTofill is the last data frame  "
   ]
  },
  {
   "cell_type": "code",
   "execution_count": 28,
   "id": "seventh-material",
   "metadata": {},
   "outputs": [
    {
     "data": {
      "text/html": [
       "<div>\n",
       "<style scoped>\n",
       "    .dataframe tbody tr th:only-of-type {\n",
       "        vertical-align: middle;\n",
       "    }\n",
       "\n",
       "    .dataframe tbody tr th {\n",
       "        vertical-align: top;\n",
       "    }\n",
       "\n",
       "    .dataframe thead th {\n",
       "        text-align: right;\n",
       "    }\n",
       "</style>\n",
       "<table border=\"1\" class=\"dataframe\">\n",
       "  <thead>\n",
       "    <tr style=\"text-align: right;\">\n",
       "      <th></th>\n",
       "      <th>ID</th>\n",
       "      <th>Organisation</th>\n",
       "      <th>Age</th>\n",
       "      <th>LOS</th>\n",
       "      <th>Consent</th>\n",
       "      <th>Death</th>\n",
       "    </tr>\n",
       "  </thead>\n",
       "  <tbody>\n",
       "    <tr>\n",
       "      <th>0</th>\n",
       "      <td>0</td>\n",
       "      <td>NaN</td>\n",
       "      <td>0</td>\n",
       "      <td>0</td>\n",
       "      <td>False</td>\n",
       "      <td>NaN</td>\n",
       "    </tr>\n",
       "    <tr>\n",
       "      <th>0</th>\n",
       "      <td>1</td>\n",
       "      <td>Trust1</td>\n",
       "      <td>55</td>\n",
       "      <td>2</td>\n",
       "      <td>True</td>\n",
       "      <td>0.0</td>\n",
       "    </tr>\n",
       "    <tr>\n",
       "      <th>1</th>\n",
       "      <td>2</td>\n",
       "      <td>Trust2</td>\n",
       "      <td>27</td>\n",
       "      <td>1</td>\n",
       "      <td>True</td>\n",
       "      <td>0.0</td>\n",
       "    </tr>\n",
       "    <tr>\n",
       "      <th>2</th>\n",
       "      <td>3</td>\n",
       "      <td>Trust3</td>\n",
       "      <td>93</td>\n",
       "      <td>12</td>\n",
       "      <td>True</td>\n",
       "      <td>0.0</td>\n",
       "    </tr>\n",
       "    <tr>\n",
       "      <th>3</th>\n",
       "      <td>4</td>\n",
       "      <td>Trust4</td>\n",
       "      <td>45</td>\n",
       "      <td>3</td>\n",
       "      <td>True</td>\n",
       "      <td>1.0</td>\n",
       "    </tr>\n",
       "    <tr>\n",
       "      <th>...</th>\n",
       "      <td>...</td>\n",
       "      <td>...</td>\n",
       "      <td>...</td>\n",
       "      <td>...</td>\n",
       "      <td>...</td>\n",
       "      <td>...</td>\n",
       "    </tr>\n",
       "    <tr>\n",
       "      <th>296</th>\n",
       "      <td>297</td>\n",
       "      <td>Trust7</td>\n",
       "      <td>55</td>\n",
       "      <td>6</td>\n",
       "      <td>True</td>\n",
       "      <td>1.0</td>\n",
       "    </tr>\n",
       "    <tr>\n",
       "      <th>297</th>\n",
       "      <td>298</td>\n",
       "      <td>Trust8</td>\n",
       "      <td>21</td>\n",
       "      <td>3</td>\n",
       "      <td>True</td>\n",
       "      <td>0.0</td>\n",
       "    </tr>\n",
       "    <tr>\n",
       "      <th>298</th>\n",
       "      <td>299</td>\n",
       "      <td>Trust9</td>\n",
       "      <td>54</td>\n",
       "      <td>1</td>\n",
       "      <td>True</td>\n",
       "      <td>0.0</td>\n",
       "    </tr>\n",
       "    <tr>\n",
       "      <th>299</th>\n",
       "      <td>300</td>\n",
       "      <td>Trust10</td>\n",
       "      <td>93</td>\n",
       "      <td>15</td>\n",
       "      <td>True</td>\n",
       "      <td>0.0</td>\n",
       "    </tr>\n",
       "    <tr>\n",
       "      <th>0</th>\n",
       "      <td>301</td>\n",
       "      <td>Trust1</td>\n",
       "      <td>99</td>\n",
       "      <td>1000</td>\n",
       "      <td>True</td>\n",
       "      <td>NaN</td>\n",
       "    </tr>\n",
       "  </tbody>\n",
       "</table>\n",
       "<p>302 rows × 6 columns</p>\n",
       "</div>"
      ],
      "text/plain": [
       "      ID Organisation  Age   LOS Consent  Death\n",
       "0      0          NaN    0     0   False    NaN\n",
       "0      1       Trust1   55     2    True    0.0\n",
       "1      2       Trust2   27     1    True    0.0\n",
       "2      3       Trust3   93    12    True    0.0\n",
       "3      4       Trust4   45     3    True    1.0\n",
       "..   ...          ...  ...   ...     ...    ...\n",
       "296  297       Trust7   55     6    True    1.0\n",
       "297  298       Trust8   21     3    True    0.0\n",
       "298  299       Trust9   54     1    True    0.0\n",
       "299  300      Trust10   93    15    True    0.0\n",
       "0    301       Trust1   99  1000    True    NaN\n",
       "\n",
       "[302 rows x 6 columns]"
      ]
     },
     "metadata": {},
     "output_type": "display_data"
    }
   ],
   "source": [
    "# I input the extra data of the consent for the test data using iloc () function for data manipuation\n",
    "CollectData.iloc[1:,4]=a.value\n",
    "display(CollectData)"
   ]
  },
  {
   "cell_type": "code",
   "execution_count": 29,
   "id": "worthy-vegetarian",
   "metadata": {},
   "outputs": [
    {
     "data": {
      "text/html": [
       "<div>\n",
       "<style scoped>\n",
       "    .dataframe tbody tr th:only-of-type {\n",
       "        vertical-align: middle;\n",
       "    }\n",
       "\n",
       "    .dataframe tbody tr th {\n",
       "        vertical-align: top;\n",
       "    }\n",
       "\n",
       "    .dataframe thead th {\n",
       "        text-align: right;\n",
       "    }\n",
       "</style>\n",
       "<table border=\"1\" class=\"dataframe\">\n",
       "  <thead>\n",
       "    <tr style=\"text-align: right;\">\n",
       "      <th></th>\n",
       "      <th>ID</th>\n",
       "      <th>Organisation</th>\n",
       "      <th>Age</th>\n",
       "      <th>LOS</th>\n",
       "      <th>Consent</th>\n",
       "      <th>Death</th>\n",
       "    </tr>\n",
       "  </thead>\n",
       "  <tbody>\n",
       "    <tr>\n",
       "      <th>0</th>\n",
       "      <td>1</td>\n",
       "      <td>Trust1</td>\n",
       "      <td>55</td>\n",
       "      <td>2</td>\n",
       "      <td>True</td>\n",
       "      <td>0.0</td>\n",
       "    </tr>\n",
       "    <tr>\n",
       "      <th>1</th>\n",
       "      <td>2</td>\n",
       "      <td>Trust2</td>\n",
       "      <td>27</td>\n",
       "      <td>1</td>\n",
       "      <td>True</td>\n",
       "      <td>0.0</td>\n",
       "    </tr>\n",
       "    <tr>\n",
       "      <th>2</th>\n",
       "      <td>3</td>\n",
       "      <td>Trust3</td>\n",
       "      <td>93</td>\n",
       "      <td>12</td>\n",
       "      <td>True</td>\n",
       "      <td>0.0</td>\n",
       "    </tr>\n",
       "    <tr>\n",
       "      <th>3</th>\n",
       "      <td>4</td>\n",
       "      <td>Trust4</td>\n",
       "      <td>45</td>\n",
       "      <td>3</td>\n",
       "      <td>True</td>\n",
       "      <td>1.0</td>\n",
       "    </tr>\n",
       "    <tr>\n",
       "      <th>4</th>\n",
       "      <td>5</td>\n",
       "      <td>Trust5</td>\n",
       "      <td>70</td>\n",
       "      <td>11</td>\n",
       "      <td>True</td>\n",
       "      <td>0.0</td>\n",
       "    </tr>\n",
       "    <tr>\n",
       "      <th>...</th>\n",
       "      <td>...</td>\n",
       "      <td>...</td>\n",
       "      <td>...</td>\n",
       "      <td>...</td>\n",
       "      <td>...</td>\n",
       "      <td>...</td>\n",
       "    </tr>\n",
       "    <tr>\n",
       "      <th>296</th>\n",
       "      <td>297</td>\n",
       "      <td>Trust7</td>\n",
       "      <td>55</td>\n",
       "      <td>6</td>\n",
       "      <td>True</td>\n",
       "      <td>1.0</td>\n",
       "    </tr>\n",
       "    <tr>\n",
       "      <th>297</th>\n",
       "      <td>298</td>\n",
       "      <td>Trust8</td>\n",
       "      <td>21</td>\n",
       "      <td>3</td>\n",
       "      <td>True</td>\n",
       "      <td>0.0</td>\n",
       "    </tr>\n",
       "    <tr>\n",
       "      <th>298</th>\n",
       "      <td>299</td>\n",
       "      <td>Trust9</td>\n",
       "      <td>54</td>\n",
       "      <td>1</td>\n",
       "      <td>True</td>\n",
       "      <td>0.0</td>\n",
       "    </tr>\n",
       "    <tr>\n",
       "      <th>299</th>\n",
       "      <td>300</td>\n",
       "      <td>Trust10</td>\n",
       "      <td>93</td>\n",
       "      <td>15</td>\n",
       "      <td>True</td>\n",
       "      <td>0.0</td>\n",
       "    </tr>\n",
       "    <tr>\n",
       "      <th>0</th>\n",
       "      <td>301</td>\n",
       "      <td>Trust1</td>\n",
       "      <td>99</td>\n",
       "      <td>1000</td>\n",
       "      <td>True</td>\n",
       "      <td>NaN</td>\n",
       "    </tr>\n",
       "  </tbody>\n",
       "</table>\n",
       "<p>301 rows × 6 columns</p>\n",
       "</div>"
      ],
      "text/plain": [
       "      ID Organisation  Age   LOS Consent  Death\n",
       "0      1       Trust1   55     2    True    0.0\n",
       "1      2       Trust2   27     1    True    0.0\n",
       "2      3       Trust3   93    12    True    0.0\n",
       "3      4       Trust4   45     3    True    1.0\n",
       "4      5       Trust5   70    11    True    0.0\n",
       "..   ...          ...  ...   ...     ...    ...\n",
       "296  297       Trust7   55     6    True    1.0\n",
       "297  298       Trust8   21     3    True    0.0\n",
       "298  299       Trust9   54     1    True    0.0\n",
       "299  300      Trust10   93    15    True    0.0\n",
       "0    301       Trust1   99  1000    True    NaN\n",
       "\n",
       "[301 rows x 6 columns]"
      ]
     },
     "metadata": {},
     "output_type": "display_data"
    }
   ],
   "source": [
    "#I consent to process and share the data before I save it to the working data folder.The following line of code, will ensure that you have consent to save data.\n",
    "CollectData=CollectData[CollectData['Consent'] == True]\n",
    "display(CollectData)"
   ]
  },
  {
   "cell_type": "code",
   "execution_count": 30,
   "id": "integral-basketball",
   "metadata": {},
   "outputs": [],
   "source": [
    "# This end of syhtheis. Saving the data collected by your data-capture tool to the working data folder:\n",
    "CollectData.to_csv('../Data/LOS_python_CollectedData.csv', index=False)\n",
    "# I saved my collected data frame saved to the working ‘Data’ folder to repeat data amanipulation via the Notebook until the end of data collection and interactions and then save the captured test data to my ‘RawData’ folder.\n",
    "CollectData.to_csv('../RawData/LOS_python_CollectedDataFinal.csv', index=False)#Thank you very much for reading my assingment and marking."
   ]
  },
  {
   "cell_type": "code",
   "execution_count": null,
   "id": "cellular-workstation",
   "metadata": {},
   "outputs": [],
   "source": []
  }
 ],
 "metadata": {
  "kernelspec": {
   "display_name": "Python 3 (ipykernel)",
   "language": "python",
   "name": "python3"
  },
  "language_info": {
   "codemirror_mode": {
    "name": "ipython",
    "version": 3
   },
   "file_extension": ".py",
   "mimetype": "text/x-python",
   "name": "python",
   "nbconvert_exporter": "python",
   "pygments_lexer": "ipython3",
   "version": "3.9.2"
  }
 },
 "nbformat": 4,
 "nbformat_minor": 5
}
